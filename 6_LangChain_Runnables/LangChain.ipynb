{
 "cells": [
  {
   "cell_type": "code",
   "execution_count": 12,
   "id": "470a456d",
   "metadata": {},
   "outputs": [],
   "source": [
    "import random\n",
    "class LLM :\n",
    "    def __init__(self):\n",
    "        print(\"LLM Created\")\n",
    "    \n",
    "    def predict(self, prompt) :\n",
    "        response_list = [\n",
    "            \"my name is joti\",\n",
    "            \"my batch 58th\",\n",
    "            \"city university\"\n",
    "        ]\n",
    "        return {\"response\":random.choice(response_list)}"
   ]
  },
  {
   "cell_type": "code",
   "execution_count": 13,
   "id": "3edbffe7",
   "metadata": {},
   "outputs": [],
   "source": [
    "class PromptTemplate :\n",
    "    def __init__(self, template, input_variables):\n",
    "        self.template = template\n",
    "        self.input_variable = input_variables\n",
    "\n",
    "    def format(self, input_dict) :\n",
    "        return self.template.format(**input_dict)"
   ]
  },
  {
   "cell_type": "code",
   "execution_count": 14,
   "id": "c0927573",
   "metadata": {},
   "outputs": [],
   "source": [
    "template = PromptTemplate(\n",
    "    template=\"Write a {length} poem about {topic}\",\n",
    "    input_variables=[\"length\",\"topic\"]\n",
    ")"
   ]
  },
  {
   "cell_type": "code",
   "execution_count": 15,
   "id": "2fe85ff8",
   "metadata": {},
   "outputs": [],
   "source": [
    "prompt = template.format({\"length\":\"large\",\"topic\":\"bangladesh\"})"
   ]
  },
  {
   "cell_type": "code",
   "execution_count": 16,
   "id": "6d02790a",
   "metadata": {},
   "outputs": [
    {
     "name": "stdout",
     "output_type": "stream",
     "text": [
      "LLM Created\n"
     ]
    }
   ],
   "source": [
    "llm = LLM()"
   ]
  },
  {
   "cell_type": "code",
   "execution_count": 17,
   "id": "4ef23987",
   "metadata": {},
   "outputs": [
    {
     "data": {
      "text/plain": [
       "{'response': 'my batch 58th'}"
      ]
     },
     "execution_count": 17,
     "metadata": {},
     "output_type": "execute_result"
    }
   ],
   "source": [
    "llm.predict(prompt=prompt)"
   ]
  },
  {
   "cell_type": "code",
   "execution_count": 18,
   "id": "4a0c592e",
   "metadata": {},
   "outputs": [],
   "source": [
    "class LLMChain :\n",
    "    def __init__(self, llm, prompt):\n",
    "        self.llm = llm\n",
    "        self.prompt = prompt\n",
    "\n",
    "    def run(self, input_dict) :\n",
    "        final_prompt = self.prompt.format(input_dict)\n",
    "        result = self.llm.predict(final_prompt)\n",
    "        return result[\"response\"]"
   ]
  },
  {
   "cell_type": "code",
   "execution_count": 19,
   "id": "0c472a38",
   "metadata": {},
   "outputs": [],
   "source": [
    "chain = LLMChain(llm, template)"
   ]
  },
  {
   "cell_type": "code",
   "execution_count": 20,
   "id": "df08745f",
   "metadata": {},
   "outputs": [
    {
     "data": {
      "text/plain": [
       "'city university'"
      ]
     },
     "execution_count": 20,
     "metadata": {},
     "output_type": "execute_result"
    }
   ],
   "source": [
    "chain.run({\"length\":\"short\", \"topic\":\"bangladesh\"})"
   ]
  },
  {
   "cell_type": "markdown",
   "id": "6e9a621f",
   "metadata": {},
   "source": [
    "## Runnables"
   ]
  },
  {
   "cell_type": "code",
   "execution_count": 1,
   "id": "e706f982",
   "metadata": {},
   "outputs": [],
   "source": [
    "from abc import ABC, abstractmethod"
   ]
  },
  {
   "cell_type": "code",
   "execution_count": 25,
   "id": "29950019",
   "metadata": {},
   "outputs": [],
   "source": [
    "class Runnable(ABC) :\n",
    "    \n",
    "    @abstractmethod\n",
    "    def invoke(input) :\n",
    "        pass"
   ]
  },
  {
   "cell_type": "code",
   "execution_count": 29,
   "id": "41742a5b",
   "metadata": {},
   "outputs": [],
   "source": [
    "import random\n",
    "class LLM(Runnable) :\n",
    "    def __init__(self):\n",
    "        print(\"LLM Created\")\n",
    "    \n",
    "    def invoke(self, prompt):\n",
    "        response_list = [\n",
    "            \"my name is joti\",\n",
    "            \"my batch 58th\",\n",
    "            \"city university\"\n",
    "        ]\n",
    "        return {\"response\":random.choice(response_list)}\n",
    "    \n",
    "\n",
    "    def predict(self, prompt) :\n",
    "        response_list = [\n",
    "            \"my name is joti\",\n",
    "            \"my batch 58th\",\n",
    "            \"city university\"\n",
    "        ]\n",
    "        return {\"response\":random.choice(response_list)}"
   ]
  },
  {
   "cell_type": "code",
   "execution_count": 30,
   "id": "6c170983",
   "metadata": {},
   "outputs": [
    {
     "name": "stdout",
     "output_type": "stream",
     "text": [
      "LLM Created\n"
     ]
    }
   ],
   "source": [
    "llm1 = LLM()"
   ]
  },
  {
   "cell_type": "code",
   "execution_count": 31,
   "id": "d80c0b72",
   "metadata": {},
   "outputs": [],
   "source": [
    "class PromptTemplate(Runnable) :\n",
    "    def __init__(self, template, input_variables):\n",
    "        self.template = template\n",
    "        self.input_variable = input_variables\n",
    "\n",
    "    def invoke(self, input_dict):\n",
    "        return self.template.format(**input_dict)\n",
    "\n",
    "    def format(self, input_dict) :\n",
    "        return self.template.format(**input_dict)"
   ]
  },
  {
   "cell_type": "code",
   "execution_count": 33,
   "id": "28f05f48",
   "metadata": {},
   "outputs": [],
   "source": [
    "class RunnableConnector(Runnable) :\n",
    "    def __init__(self, runnable_list):\n",
    "        self.runnable_list = runnable_list\n",
    "\n",
    "    def invoke(self, input_data) :\n",
    "        for runnable in self.runnable_list :\n",
    "            input_data = runnable.invoke(input_data)\n",
    "        return input_data\n",
    "        "
   ]
  },
  {
   "cell_type": "code",
   "execution_count": 39,
   "id": "d3d552ed",
   "metadata": {},
   "outputs": [],
   "source": [
    "class StrOutputParser(Runnable) :\n",
    "    def __init__(self):\n",
    "        pass\n",
    "    def invoke(self,input_data) :\n",
    "        return input_data[\"response\"]"
   ]
  },
  {
   "cell_type": "code",
   "execution_count": 35,
   "id": "a0aa3e6b",
   "metadata": {},
   "outputs": [],
   "source": [
    "template1 = PromptTemplate(\n",
    "    template=\"Write a {length} poem about {topic}\",\n",
    "    input_variables=[\"length\",\"topic\"]\n",
    ")"
   ]
  },
  {
   "cell_type": "code",
   "execution_count": 40,
   "id": "8a70efbf",
   "metadata": {},
   "outputs": [],
   "source": [
    "parser = StrOutputParser()"
   ]
  },
  {
   "cell_type": "code",
   "execution_count": 41,
   "id": "a90ca133",
   "metadata": {},
   "outputs": [],
   "source": [
    "chain = RunnableConnector([template1,llm1, parser])"
   ]
  },
  {
   "cell_type": "code",
   "execution_count": 42,
   "id": "f6545e3f",
   "metadata": {},
   "outputs": [
    {
     "data": {
      "text/plain": [
       "'my batch 58th'"
      ]
     },
     "execution_count": 42,
     "metadata": {},
     "output_type": "execute_result"
    }
   ],
   "source": [
    "chain.invoke({\"length\":\"medium\",\"topic\":\"dhaka\"})"
   ]
  },
  {
   "cell_type": "code",
   "execution_count": 43,
   "id": "755c87f2",
   "metadata": {},
   "outputs": [],
   "source": [
    "template2 = PromptTemplate(\n",
    "    template = \"write a joke about {topic}\",\n",
    "    input_variables=[\"topic\"]\n",
    ")"
   ]
  },
  {
   "cell_type": "code",
   "execution_count": 44,
   "id": "b41fa940",
   "metadata": {},
   "outputs": [],
   "source": [
    "template3 = PromptTemplate(\n",
    "    template=\"Write a summary about the following joke {response}\",\n",
    "    input_variables=[\"response\"]\n",
    ")"
   ]
  },
  {
   "cell_type": "code",
   "execution_count": 45,
   "id": "6c770fbf",
   "metadata": {},
   "outputs": [
    {
     "name": "stdout",
     "output_type": "stream",
     "text": [
      "LLM Created\n"
     ]
    }
   ],
   "source": [
    "llm2 = LLM()"
   ]
  },
  {
   "cell_type": "code",
   "execution_count": 46,
   "id": "9d87c5af",
   "metadata": {},
   "outputs": [],
   "source": [
    "parser1 = StrOutputParser()"
   ]
  },
  {
   "cell_type": "code",
   "execution_count": 47,
   "id": "d0c0b1cd",
   "metadata": {},
   "outputs": [],
   "source": [
    "chain1 = RunnableConnector([template2, llm2])"
   ]
  },
  {
   "cell_type": "code",
   "execution_count": 48,
   "id": "e2ec3546",
   "metadata": {},
   "outputs": [
    {
     "data": {
      "text/plain": [
       "{'response': 'city university'}"
      ]
     },
     "execution_count": 48,
     "metadata": {},
     "output_type": "execute_result"
    }
   ],
   "source": [
    "chain1.invoke({\"topic\":\"ML\"})"
   ]
  },
  {
   "cell_type": "code",
   "execution_count": 55,
   "id": "3bc173e3",
   "metadata": {},
   "outputs": [],
   "source": [
    "chain2 = RunnableConnector([template3, llm2, parser1])"
   ]
  },
  {
   "cell_type": "code",
   "execution_count": null,
   "id": "bcb7c632",
   "metadata": {},
   "outputs": [],
   "source": []
  },
  {
   "cell_type": "code",
   "execution_count": 56,
   "id": "167b2cfc",
   "metadata": {},
   "outputs": [
    {
     "data": {
      "text/plain": [
       "'city university'"
      ]
     },
     "execution_count": 56,
     "metadata": {},
     "output_type": "execute_result"
    }
   ],
   "source": [
    "chain2.invoke({\"response\":\"this is a joke\"})"
   ]
  },
  {
   "cell_type": "code",
   "execution_count": 57,
   "id": "b146f61d",
   "metadata": {},
   "outputs": [],
   "source": [
    "final_chain = RunnableConnector([chain1, chain2])"
   ]
  },
  {
   "cell_type": "code",
   "execution_count": 58,
   "id": "2b932d80",
   "metadata": {},
   "outputs": [
    {
     "data": {
      "text/plain": [
       "'my batch 58th'"
      ]
     },
     "execution_count": 58,
     "metadata": {},
     "output_type": "execute_result"
    }
   ],
   "source": [
    "final_chain.invoke({\"topic\":\"criket\"})"
   ]
  },
  {
   "cell_type": "code",
   "execution_count": null,
   "id": "9b64511d",
   "metadata": {},
   "outputs": [],
   "source": []
  }
 ],
 "metadata": {
  "kernelspec": {
   "display_name": "Python 3",
   "language": "python",
   "name": "python3"
  },
  "language_info": {
   "codemirror_mode": {
    "name": "ipython",
    "version": 3
   },
   "file_extension": ".py",
   "mimetype": "text/x-python",
   "name": "python",
   "nbconvert_exporter": "python",
   "pygments_lexer": "ipython3",
   "version": "3.10.18"
  }
 },
 "nbformat": 4,
 "nbformat_minor": 5
}
